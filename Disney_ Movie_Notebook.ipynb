{
 "cells": [
  {
   "cell_type": "markdown",
   "id": "eb22f738",
   "metadata": {},
   "source": [
    "# Exploratory Data Analysis of Disney Movies \n",
    "\n",
    "## Alexandria Ransom\n",
    "\n",
    "### Dataset available at : *https://www.kaggle.com/prateekmaj21/disney-movies*"
   ]
  },
  {
   "cell_type": "markdown",
   "id": "e2a9c9e8",
   "metadata": {},
   "source": [
    "#### Medium Article Explanation: *CodingwithAlexandria*\n",
    "*Project Purpose: The focus is to explore the data to get a better understanding of what data is trying to speak forth. (Additional Questions will be located further in project)Some of these Questions around that focus consist of: What movies did well in inflation adjusted gross income? What genres of movies had the lowest income? What are some of top movies(per this dataset) that acquired the most income in both income columns that Disney has ever produced in history?*\n",
    "\n",
    "#### *Please refer to the Medium Article first to follow along so you understand the questions for the data prior and for a more visual understanding overall on what is completed below.*"
   ]
  },
  {
   "cell_type": "markdown",
   "id": "9f066417",
   "metadata": {},
   "source": [
    "### Import Required Modules"
   ]
  },
  {
   "cell_type": "code",
   "execution_count": 23,
   "id": "db2f0ca6",
   "metadata": {},
   "outputs": [],
   "source": [
    "import pandas as pd\n",
    "import numpy as np\n",
    "import seaborn as sns\n",
    "import matplotlib.pyplot as plt\n",
    "import sqlite3\n",
    "%matplotlib inline"
   ]
  },
  {
   "cell_type": "markdown",
   "id": "a9b7b756",
   "metadata": {},
   "source": [
    "### Read Data "
   ]
  },
  {
   "cell_type": "code",
   "execution_count": 24,
   "id": "0c338b1c",
   "metadata": {},
   "outputs": [],
   "source": [
    "disney_movies = pd.read_csv(\"C:\\\\Users\\\\Alexandria\\\\Downloads\\\\disney\\\\disney_movies.csv\")"
   ]
  },
  {
   "cell_type": "code",
   "execution_count": 25,
   "id": "964acb4f",
   "metadata": {},
   "outputs": [
    {
     "data": {
      "text/html": [
       "<div>\n",
       "<style scoped>\n",
       "    .dataframe tbody tr th:only-of-type {\n",
       "        vertical-align: middle;\n",
       "    }\n",
       "\n",
       "    .dataframe tbody tr th {\n",
       "        vertical-align: top;\n",
       "    }\n",
       "\n",
       "    .dataframe thead th {\n",
       "        text-align: right;\n",
       "    }\n",
       "</style>\n",
       "<table border=\"1\" class=\"dataframe\">\n",
       "  <thead>\n",
       "    <tr style=\"text-align: right;\">\n",
       "      <th></th>\n",
       "      <th>movie_title</th>\n",
       "      <th>release_date</th>\n",
       "      <th>genre</th>\n",
       "      <th>mpaa_rating</th>\n",
       "      <th>total_gross</th>\n",
       "      <th>inflation_adjusted_gross</th>\n",
       "    </tr>\n",
       "  </thead>\n",
       "  <tbody>\n",
       "    <tr>\n",
       "      <th>0</th>\n",
       "      <td>Snow White and the Seven Dwarfs</td>\n",
       "      <td>12/21/1937</td>\n",
       "      <td>Musical</td>\n",
       "      <td>G</td>\n",
       "      <td>184925485</td>\n",
       "      <td>5228953251</td>\n",
       "    </tr>\n",
       "    <tr>\n",
       "      <th>1</th>\n",
       "      <td>Pinocchio</td>\n",
       "      <td>2/9/1940</td>\n",
       "      <td>Adventure</td>\n",
       "      <td>G</td>\n",
       "      <td>84300000</td>\n",
       "      <td>2188229052</td>\n",
       "    </tr>\n",
       "    <tr>\n",
       "      <th>2</th>\n",
       "      <td>Fantasia</td>\n",
       "      <td>11/13/1940</td>\n",
       "      <td>Musical</td>\n",
       "      <td>G</td>\n",
       "      <td>83320000</td>\n",
       "      <td>2187090808</td>\n",
       "    </tr>\n",
       "    <tr>\n",
       "      <th>3</th>\n",
       "      <td>Song of the South</td>\n",
       "      <td>11/12/1946</td>\n",
       "      <td>Adventure</td>\n",
       "      <td>G</td>\n",
       "      <td>65000000</td>\n",
       "      <td>1078510579</td>\n",
       "    </tr>\n",
       "    <tr>\n",
       "      <th>4</th>\n",
       "      <td>Cinderella</td>\n",
       "      <td>2/15/1950</td>\n",
       "      <td>Drama</td>\n",
       "      <td>G</td>\n",
       "      <td>85000000</td>\n",
       "      <td>920608730</td>\n",
       "    </tr>\n",
       "    <tr>\n",
       "      <th>5</th>\n",
       "      <td>20,000 Leagues Under the Sea</td>\n",
       "      <td>12/23/1954</td>\n",
       "      <td>Adventure</td>\n",
       "      <td>NaN</td>\n",
       "      <td>28200000</td>\n",
       "      <td>528279994</td>\n",
       "    </tr>\n",
       "    <tr>\n",
       "      <th>6</th>\n",
       "      <td>Lady and the Tramp</td>\n",
       "      <td>6/22/1955</td>\n",
       "      <td>Drama</td>\n",
       "      <td>G</td>\n",
       "      <td>93600000</td>\n",
       "      <td>1236035515</td>\n",
       "    </tr>\n",
       "    <tr>\n",
       "      <th>7</th>\n",
       "      <td>Sleeping Beauty</td>\n",
       "      <td>1/29/1959</td>\n",
       "      <td>Drama</td>\n",
       "      <td>NaN</td>\n",
       "      <td>9464608</td>\n",
       "      <td>21505832</td>\n",
       "    </tr>\n",
       "    <tr>\n",
       "      <th>8</th>\n",
       "      <td>101 Dalmatians</td>\n",
       "      <td>1/25/1961</td>\n",
       "      <td>Comedy</td>\n",
       "      <td>G</td>\n",
       "      <td>153000000</td>\n",
       "      <td>1362870985</td>\n",
       "    </tr>\n",
       "    <tr>\n",
       "      <th>9</th>\n",
       "      <td>The Absent Minded Professor</td>\n",
       "      <td>3/16/1961</td>\n",
       "      <td>Comedy</td>\n",
       "      <td>NaN</td>\n",
       "      <td>25381407</td>\n",
       "      <td>310094574</td>\n",
       "    </tr>\n",
       "  </tbody>\n",
       "</table>\n",
       "</div>"
      ],
      "text/plain": [
       "                       movie_title release_date      genre mpaa_rating  \\\n",
       "0  Snow White and the Seven Dwarfs   12/21/1937    Musical           G   \n",
       "1                        Pinocchio     2/9/1940  Adventure           G   \n",
       "2                         Fantasia   11/13/1940    Musical           G   \n",
       "3                Song of the South   11/12/1946  Adventure           G   \n",
       "4                       Cinderella    2/15/1950      Drama           G   \n",
       "5     20,000 Leagues Under the Sea   12/23/1954  Adventure         NaN   \n",
       "6               Lady and the Tramp    6/22/1955      Drama           G   \n",
       "7                  Sleeping Beauty    1/29/1959      Drama         NaN   \n",
       "8                   101 Dalmatians    1/25/1961     Comedy           G   \n",
       "9      The Absent Minded Professor    3/16/1961     Comedy         NaN   \n",
       "\n",
       "   total_gross  inflation_adjusted_gross  \n",
       "0    184925485                5228953251  \n",
       "1     84300000                2188229052  \n",
       "2     83320000                2187090808  \n",
       "3     65000000                1078510579  \n",
       "4     85000000                 920608730  \n",
       "5     28200000                 528279994  \n",
       "6     93600000                1236035515  \n",
       "7      9464608                  21505832  \n",
       "8    153000000                1362870985  \n",
       "9     25381407                 310094574  "
      ]
     },
     "execution_count": 25,
     "metadata": {},
     "output_type": "execute_result"
    }
   ],
   "source": [
    "disney_movies.head(10) #View and inspect the first 10 rows"
   ]
  },
  {
   "cell_type": "markdown",
   "id": "836b9189",
   "metadata": {},
   "source": [
    "### Notes and Observations:\n",
    "\n",
    "#### First, let's take a look at every column name. These are called attributes. They describe the data and the whole column and rows can be put into  containers(list, tuples, dictionaries,sets,etc) . Now, let's make a note of each column name so we can see what we will be working with. Next, under each column name starting with \"movie title\", look at the data type for that column. I enjoy making a visual note of this below and assign each data type to the correct column so I can visually see a written description in what I'm working with.\n",
    "\n",
    "#### Each Column Name and Data Type: (Helps keep you organized!)\n",
    "\n",
    "\n",
    "### 1.)  *movie title: string*\n",
    "### 2.) *release_date : string/date* \n",
    "### 3.) *genre: string*\n",
    "### 4.) *mpaa_rating: string*\n",
    "### 5.) *total_gross: int*\n",
    "### 6.)  *inflation_adjusted_gross: int*\n",
    "\n"
   ]
  },
  {
   "cell_type": "markdown",
   "id": "babec042",
   "metadata": {},
   "source": [
    "*Proceeding to explore the bottom of this dataset to look at this data's overall shape and to get a sense of the data itself.*"
   ]
  },
  {
   "cell_type": "code",
   "execution_count": 26,
   "id": "b806676e",
   "metadata": {},
   "outputs": [
    {
     "data": {
      "text/html": [
       "<div>\n",
       "<style scoped>\n",
       "    .dataframe tbody tr th:only-of-type {\n",
       "        vertical-align: middle;\n",
       "    }\n",
       "\n",
       "    .dataframe tbody tr th {\n",
       "        vertical-align: top;\n",
       "    }\n",
       "\n",
       "    .dataframe thead th {\n",
       "        text-align: right;\n",
       "    }\n",
       "</style>\n",
       "<table border=\"1\" class=\"dataframe\">\n",
       "  <thead>\n",
       "    <tr style=\"text-align: right;\">\n",
       "      <th></th>\n",
       "      <th>movie_title</th>\n",
       "      <th>release_date</th>\n",
       "      <th>genre</th>\n",
       "      <th>mpaa_rating</th>\n",
       "      <th>total_gross</th>\n",
       "      <th>inflation_adjusted_gross</th>\n",
       "    </tr>\n",
       "  </thead>\n",
       "  <tbody>\n",
       "    <tr>\n",
       "      <th>574</th>\n",
       "      <td>The Light Between Oceans</td>\n",
       "      <td>9/2/2016</td>\n",
       "      <td>Drama</td>\n",
       "      <td>PG-13</td>\n",
       "      <td>12545979</td>\n",
       "      <td>12545979</td>\n",
       "    </tr>\n",
       "    <tr>\n",
       "      <th>575</th>\n",
       "      <td>Queen of Katwe</td>\n",
       "      <td>9/23/2016</td>\n",
       "      <td>Drama</td>\n",
       "      <td>PG</td>\n",
       "      <td>8874389</td>\n",
       "      <td>8874389</td>\n",
       "    </tr>\n",
       "    <tr>\n",
       "      <th>576</th>\n",
       "      <td>Doctor Strange</td>\n",
       "      <td>11/4/2016</td>\n",
       "      <td>Adventure</td>\n",
       "      <td>PG-13</td>\n",
       "      <td>232532923</td>\n",
       "      <td>232532923</td>\n",
       "    </tr>\n",
       "    <tr>\n",
       "      <th>577</th>\n",
       "      <td>Moana</td>\n",
       "      <td>11/23/2016</td>\n",
       "      <td>Adventure</td>\n",
       "      <td>PG</td>\n",
       "      <td>246082029</td>\n",
       "      <td>246082029</td>\n",
       "    </tr>\n",
       "    <tr>\n",
       "      <th>578</th>\n",
       "      <td>Rogue One: A Star Wars Story</td>\n",
       "      <td>12/16/2016</td>\n",
       "      <td>Adventure</td>\n",
       "      <td>PG-13</td>\n",
       "      <td>529483936</td>\n",
       "      <td>529483936</td>\n",
       "    </tr>\n",
       "  </tbody>\n",
       "</table>\n",
       "</div>"
      ],
      "text/plain": [
       "                      movie_title release_date      genre mpaa_rating  \\\n",
       "574      The Light Between Oceans     9/2/2016      Drama       PG-13   \n",
       "575                Queen of Katwe    9/23/2016      Drama          PG   \n",
       "576                Doctor Strange    11/4/2016  Adventure       PG-13   \n",
       "577                         Moana   11/23/2016  Adventure          PG   \n",
       "578  Rogue One: A Star Wars Story   12/16/2016  Adventure       PG-13   \n",
       "\n",
       "     total_gross  inflation_adjusted_gross  \n",
       "574     12545979                  12545979  \n",
       "575      8874389                   8874389  \n",
       "576    232532923                 232532923  \n",
       "577    246082029                 246082029  \n",
       "578    529483936                 529483936  "
      ]
     },
     "execution_count": 26,
     "metadata": {},
     "output_type": "execute_result"
    }
   ],
   "source": [
    "disney_movies.tail()"
   ]
  },
  {
   "cell_type": "code",
   "execution_count": 27,
   "id": "61efff0d",
   "metadata": {},
   "outputs": [
    {
     "data": {
      "text/plain": [
       "(579, 6)"
      ]
     },
     "execution_count": 27,
     "metadata": {},
     "output_type": "execute_result"
    }
   ],
   "source": [
    "disney_movies.shape     #How many columns and rows does this dataset have?"
   ]
  },
  {
   "cell_type": "markdown",
   "id": "68003674",
   "metadata": {},
   "source": [
    "We see a total there is 579 rows"
   ]
  },
  {
   "cell_type": "code",
   "execution_count": 28,
   "id": "a6be6380",
   "metadata": {},
   "outputs": [
    {
     "data": {
      "text/plain": [
       "pandas.core.frame.DataFrame"
      ]
     },
     "execution_count": 28,
     "metadata": {},
     "output_type": "execute_result"
    }
   ],
   "source": [
    "type(disney_movies)"
   ]
  },
  {
   "cell_type": "markdown",
   "id": "3cdb0ed2",
   "metadata": {},
   "source": [
    "### Talking to the Dataset in Statistics \n",
    "We will see the 2 numerical columns *total_Gross* and *inflation_adjusted_gross* summarized broken down in a summary mini table of statistical metrics for you to easily understand."
   ]
  },
  {
   "cell_type": "code",
   "execution_count": 29,
   "id": "6e7b3d14",
   "metadata": {},
   "outputs": [
    {
     "data": {
      "text/html": [
       "<div>\n",
       "<style scoped>\n",
       "    .dataframe tbody tr th:only-of-type {\n",
       "        vertical-align: middle;\n",
       "    }\n",
       "\n",
       "    .dataframe tbody tr th {\n",
       "        vertical-align: top;\n",
       "    }\n",
       "\n",
       "    .dataframe thead th {\n",
       "        text-align: right;\n",
       "    }\n",
       "</style>\n",
       "<table border=\"1\" class=\"dataframe\">\n",
       "  <thead>\n",
       "    <tr style=\"text-align: right;\">\n",
       "      <th></th>\n",
       "      <th>total_gross</th>\n",
       "      <th>inflation_adjusted_gross</th>\n",
       "    </tr>\n",
       "  </thead>\n",
       "  <tbody>\n",
       "    <tr>\n",
       "      <th>count</th>\n",
       "      <td>5.790000e+02</td>\n",
       "      <td>5.790000e+02</td>\n",
       "    </tr>\n",
       "    <tr>\n",
       "      <th>mean</th>\n",
       "      <td>6.470179e+07</td>\n",
       "      <td>1.187625e+08</td>\n",
       "    </tr>\n",
       "    <tr>\n",
       "      <th>std</th>\n",
       "      <td>9.301301e+07</td>\n",
       "      <td>2.860853e+08</td>\n",
       "    </tr>\n",
       "    <tr>\n",
       "      <th>min</th>\n",
       "      <td>0.000000e+00</td>\n",
       "      <td>0.000000e+00</td>\n",
       "    </tr>\n",
       "    <tr>\n",
       "      <th>25%</th>\n",
       "      <td>1.278886e+07</td>\n",
       "      <td>2.274123e+07</td>\n",
       "    </tr>\n",
       "    <tr>\n",
       "      <th>50%</th>\n",
       "      <td>3.070245e+07</td>\n",
       "      <td>5.515978e+07</td>\n",
       "    </tr>\n",
       "    <tr>\n",
       "      <th>75%</th>\n",
       "      <td>7.570903e+07</td>\n",
       "      <td>1.192020e+08</td>\n",
       "    </tr>\n",
       "    <tr>\n",
       "      <th>max</th>\n",
       "      <td>9.366622e+08</td>\n",
       "      <td>5.228953e+09</td>\n",
       "    </tr>\n",
       "  </tbody>\n",
       "</table>\n",
       "</div>"
      ],
      "text/plain": [
       "        total_gross  inflation_adjusted_gross\n",
       "count  5.790000e+02              5.790000e+02\n",
       "mean   6.470179e+07              1.187625e+08\n",
       "std    9.301301e+07              2.860853e+08\n",
       "min    0.000000e+00              0.000000e+00\n",
       "25%    1.278886e+07              2.274123e+07\n",
       "50%    3.070245e+07              5.515978e+07\n",
       "75%    7.570903e+07              1.192020e+08\n",
       "max    9.366622e+08              5.228953e+09"
      ]
     },
     "execution_count": 29,
     "metadata": {},
     "output_type": "execute_result"
    }
   ],
   "source": [
    "disney_movies.describe() "
   ]
  },
  {
   "cell_type": "markdown",
   "id": "b33e9c00",
   "metadata": {},
   "source": [
    "### *Exploring the data in Statistics: Our 2 numerical columns from above we saw are now summarized into statistical insights. The central limit theorm has been applied to both columns. Next, we will draw a boxplot of these insights included.*"
   ]
  },
  {
   "cell_type": "code",
   "execution_count": 31,
   "id": "9e5501e2",
   "metadata": {},
   "outputs": [
    {
     "data": {
      "text/plain": [
       "<AxesSubplot:>"
      ]
     },
     "execution_count": 31,
     "metadata": {},
     "output_type": "execute_result"
    },
    {
     "data": {
      "image/png": "[encoded data removed]",
      "text/plain": [
       "<Figure size 432x288 with 1 Axes>"
      ]
     },
     "metadata": {
      "needs_background": "light"
     },
     "output_type": "display_data"
    }
   ],
   "source": [
    "disney_movies.boxplot()"
   ]
  },
  {
   "cell_type": "markdown",
   "id": "36709492",
   "metadata": {},
   "source": [
    "*In the boxplot, for the \"total_gross\" and the \"inflation_adjusted_gross\", we see a direct match to of where the data is concentrated at from the summary stats from our disney_movies.describe() method. The clear and black dots represents each movie. For example, for total_gross we see above in this photo, the max value: is the clear dot closet to the number 1 on the y axis (\\\\$1B) on the chart above which represents the point \\\\$936,662,225. It can be looked at as somewhat of a data point similar to an outlier because we can see most of our data is concentrated underneath that threshold. I ran a quick filter to see what this exact movie title (clear dot point) that is right before the number 1 in our picture*"
   ]
  },
  {
   "cell_type": "code",
   "execution_count": 32,
   "id": "ba5619bc",
   "metadata": {},
   "outputs": [
    {
     "data": {
      "text/html": [
       "<div>\n",
       "<style scoped>\n",
       "    .dataframe tbody tr th:only-of-type {\n",
       "        vertical-align: middle;\n",
       "    }\n",
       "\n",
       "    .dataframe tbody tr th {\n",
       "        vertical-align: top;\n",
       "    }\n",
       "\n",
       "    .dataframe thead th {\n",
       "        text-align: right;\n",
       "    }\n",
       "</style>\n",
       "<table border=\"1\" class=\"dataframe\">\n",
       "  <thead>\n",
       "    <tr style=\"text-align: right;\">\n",
       "      <th></th>\n",
       "      <th>movie_title</th>\n",
       "      <th>release_date</th>\n",
       "      <th>genre</th>\n",
       "      <th>mpaa_rating</th>\n",
       "      <th>total_gross</th>\n",
       "      <th>inflation_adjusted_gross</th>\n",
       "    </tr>\n",
       "  </thead>\n",
       "  <tbody>\n",
       "    <tr>\n",
       "      <th>564</th>\n",
       "      <td>Star Wars Ep. VII: The Force Awakens</td>\n",
       "      <td>12/18/2015</td>\n",
       "      <td>Adventure</td>\n",
       "      <td>PG-13</td>\n",
       "      <td>936662225</td>\n",
       "      <td>936662225</td>\n",
       "    </tr>\n",
       "  </tbody>\n",
       "</table>\n",
       "</div>"
      ],
      "text/plain": [
       "                              movie_title release_date      genre mpaa_rating  \\\n",
       "564  Star Wars Ep. VII: The Force Awakens   12/18/2015  Adventure       PG-13   \n",
       "\n",
       "     total_gross  inflation_adjusted_gross  \n",
       "564    936662225                 936662225  "
      ]
     },
     "execution_count": 32,
     "metadata": {},
     "output_type": "execute_result"
    }
   ],
   "source": [
    "disney_movies[disney_movies.total_gross>900000000]"
   ]
  },
  {
   "cell_type": "markdown",
   "id": "2be29616",
   "metadata": {},
   "source": [
    "*This is confirmed in our max value above in our .describe() method statistical picture we just made above this where you can see 9.366622e+08.*"
   ]
  },
  {
   "cell_type": "markdown",
   "id": "2026f5c2",
   "metadata": {},
   "source": [
    "Next, we can see that inflation_adjusted_gross in our boxplot picture has an outlier movie (the clear dot past 5) at $5,228,953,251. This clear dot matches the max value at 5.228953e+09 in our summary stats picture above. \n",
    "I got that exact amount by checking for that clear dot :"
   ]
  },
  {
   "cell_type": "code",
   "execution_count": 33,
   "id": "020e73ea",
   "metadata": {},
   "outputs": [
    {
     "data": {
      "text/html": [
       "<div>\n",
       "<style scoped>\n",
       "    .dataframe tbody tr th:only-of-type {\n",
       "        vertical-align: middle;\n",
       "    }\n",
       "\n",
       "    .dataframe tbody tr th {\n",
       "        vertical-align: top;\n",
       "    }\n",
       "\n",
       "    .dataframe thead th {\n",
       "        text-align: right;\n",
       "    }\n",
       "</style>\n",
       "<table border=\"1\" class=\"dataframe\">\n",
       "  <thead>\n",
       "    <tr style=\"text-align: right;\">\n",
       "      <th></th>\n",
       "      <th>movie_title</th>\n",
       "      <th>release_date</th>\n",
       "      <th>genre</th>\n",
       "      <th>mpaa_rating</th>\n",
       "      <th>total_gross</th>\n",
       "      <th>inflation_adjusted_gross</th>\n",
       "    </tr>\n",
       "  </thead>\n",
       "  <tbody>\n",
       "    <tr>\n",
       "      <th>0</th>\n",
       "      <td>Snow White and the Seven Dwarfs</td>\n",
       "      <td>12/21/1937</td>\n",
       "      <td>Musical</td>\n",
       "      <td>G</td>\n",
       "      <td>184925485</td>\n",
       "      <td>5228953251</td>\n",
       "    </tr>\n",
       "  </tbody>\n",
       "</table>\n",
       "</div>"
      ],
      "text/plain": [
       "                       movie_title release_date    genre mpaa_rating  \\\n",
       "0  Snow White and the Seven Dwarfs   12/21/1937  Musical           G   \n",
       "\n",
       "   total_gross  inflation_adjusted_gross  \n",
       "0    184925485                5228953251  "
      ]
     },
     "execution_count": 33,
     "metadata": {},
     "output_type": "execute_result"
    }
   ],
   "source": [
    "disney_movies[disney_movies.inflation_adjusted_gross>5000000000]"
   ]
  },
  {
   "cell_type": "markdown",
   "id": "8d8a7fb3",
   "metadata": {},
   "source": [
    "*This outlier dot past 5 is the movie Snow White and the Seven Dwarfs. I chose not to remove the outlier because its holds great value in answering our original questions about that I had about the data on which movie titles holds one of the highest inflation adjusted gross income in Disney history(based in this dataset).*"
   ]
  },
  {
   "cell_type": "markdown",
   "id": "42a835f6",
   "metadata": {},
   "source": [
    "#### Next, will be on moving on by drawing a clear photo of our data distribution in a histogram."
   ]
  },
  {
   "cell_type": "code",
   "execution_count": 34,
   "id": "efd67c3b",
   "metadata": {},
   "outputs": [
    {
     "data": {
      "text/plain": [
       "array([[<AxesSubplot:title={'center':'total_gross'}>,\n",
       "        <AxesSubplot:title={'center':'inflation_adjusted_gross'}>]],\n",
       "      dtype=object)"
      ]
     },
     "execution_count": 34,
     "metadata": {},
     "output_type": "execute_result"
    },
    {
     "data": {
      "image/png": "[encoded data removed]",
      "text/plain": [
       "<Figure size 432x288 with 2 Axes>"
      ]
     },
     "metadata": {
      "needs_background": "light"
     },
     "output_type": "display_data"
    }
   ],
   "source": [
    "disney_movies.hist()"
   ]
  },
  {
   "cell_type": "markdown",
   "id": "d3f63787",
   "metadata": {},
   "source": [
    "*Drawing a graphical histogram of the numerical info from above to make better sense of the data. Primarily, the data is right skewed and we can also see our outlier(s) as well, past numbers 4 and 5 on the x axis in both graphs with the small blue mini rectangle.*"
   ]
  },
  {
   "cell_type": "markdown",
   "id": "be63aebd",
   "metadata": {},
   "source": [
    "# Transitioning to Data Cleaning \n",
    "\n",
    "#### Here, refer back to above, we saw this set has a total of 579 rows. We are checking below now for non - null values with the .info() method.\n",
    "Null Values : Missing value. It's a value that appears blank\n",
    "Non -Null values: Data that isn't missing. It is data that is filled in.(The opposite of null values)"
   ]
  },
  {
   "cell_type": "code",
   "execution_count": 31,
   "id": "0db98e8a",
   "metadata": {},
   "outputs": [
    {
     "name": "stdout",
     "output_type": "stream",
     "text": [
      "<class 'pandas.core.frame.DataFrame'>\n",
      "RangeIndex: 579 entries, 0 to 578\n",
      "Data columns (total 6 columns):\n",
      " #   Column                    Non-Null Count  Dtype \n",
      "---  ------                    --------------  ----- \n",
      " 0   movie_title               579 non-null    object\n",
      " 1   release_date              579 non-null    object\n",
      " 2   genre                     562 non-null    object\n",
      " 3   mpaa_rating               523 non-null    object\n",
      " 4   total_gross               579 non-null    int64 \n",
      " 5   inflation_adjusted_gross  579 non-null    int64 \n",
      "dtypes: int64(2), object(4)\n",
      "memory usage: 27.3+ KB\n"
     ]
    }
   ],
   "source": [
    "disney_movies.info()"
   ]
  },
  {
   "cell_type": "markdown",
   "id": "12b6fa3b",
   "metadata": {},
   "source": [
    "*This visual shows non-null values in that the genre column has only a count of 562 non - null values(579–562=17 null values) and mpaa_rating has 523 non- null values(56 null values). They do not equal 579 which is our original row total. This shows clearly missing data.*"
   ]
  },
  {
   "cell_type": "markdown",
   "id": "6121d1f6",
   "metadata": {},
   "source": [
    "##  Idenifying Missing Data:\n",
    "* Drawing a True or False Table to see which columns has missing values by counting in the dataframe."
   ]
  },
  {
   "cell_type": "code",
   "execution_count": 32,
   "id": "d955aef8",
   "metadata": {},
   "outputs": [
    {
     "data": {
      "text/html": [
       "<div>\n",
       "<style scoped>\n",
       "    .dataframe tbody tr th:only-of-type {\n",
       "        vertical-align: middle;\n",
       "    }\n",
       "\n",
       "    .dataframe tbody tr th {\n",
       "        vertical-align: top;\n",
       "    }\n",
       "\n",
       "    .dataframe thead th {\n",
       "        text-align: right;\n",
       "    }\n",
       "</style>\n",
       "<table border=\"1\" class=\"dataframe\">\n",
       "  <thead>\n",
       "    <tr style=\"text-align: right;\">\n",
       "      <th></th>\n",
       "      <th>movie_title</th>\n",
       "      <th>release_date</th>\n",
       "      <th>genre</th>\n",
       "      <th>mpaa_rating</th>\n",
       "      <th>total_gross</th>\n",
       "      <th>inflation_adjusted_gross</th>\n",
       "    </tr>\n",
       "  </thead>\n",
       "  <tbody>\n",
       "    <tr>\n",
       "      <th>0</th>\n",
       "      <td>False</td>\n",
       "      <td>False</td>\n",
       "      <td>False</td>\n",
       "      <td>False</td>\n",
       "      <td>False</td>\n",
       "      <td>False</td>\n",
       "    </tr>\n",
       "    <tr>\n",
       "      <th>1</th>\n",
       "      <td>False</td>\n",
       "      <td>False</td>\n",
       "      <td>False</td>\n",
       "      <td>False</td>\n",
       "      <td>False</td>\n",
       "      <td>False</td>\n",
       "    </tr>\n",
       "    <tr>\n",
       "      <th>2</th>\n",
       "      <td>False</td>\n",
       "      <td>False</td>\n",
       "      <td>False</td>\n",
       "      <td>False</td>\n",
       "      <td>False</td>\n",
       "      <td>False</td>\n",
       "    </tr>\n",
       "    <tr>\n",
       "      <th>3</th>\n",
       "      <td>False</td>\n",
       "      <td>False</td>\n",
       "      <td>False</td>\n",
       "      <td>False</td>\n",
       "      <td>False</td>\n",
       "      <td>False</td>\n",
       "    </tr>\n",
       "    <tr>\n",
       "      <th>4</th>\n",
       "      <td>False</td>\n",
       "      <td>False</td>\n",
       "      <td>False</td>\n",
       "      <td>False</td>\n",
       "      <td>False</td>\n",
       "      <td>False</td>\n",
       "    </tr>\n",
       "    <tr>\n",
       "      <th>...</th>\n",
       "      <td>...</td>\n",
       "      <td>...</td>\n",
       "      <td>...</td>\n",
       "      <td>...</td>\n",
       "      <td>...</td>\n",
       "      <td>...</td>\n",
       "    </tr>\n",
       "    <tr>\n",
       "      <th>574</th>\n",
       "      <td>False</td>\n",
       "      <td>False</td>\n",
       "      <td>False</td>\n",
       "      <td>False</td>\n",
       "      <td>False</td>\n",
       "      <td>False</td>\n",
       "    </tr>\n",
       "    <tr>\n",
       "      <th>575</th>\n",
       "      <td>False</td>\n",
       "      <td>False</td>\n",
       "      <td>False</td>\n",
       "      <td>False</td>\n",
       "      <td>False</td>\n",
       "      <td>False</td>\n",
       "    </tr>\n",
       "    <tr>\n",
       "      <th>576</th>\n",
       "      <td>False</td>\n",
       "      <td>False</td>\n",
       "      <td>False</td>\n",
       "      <td>False</td>\n",
       "      <td>False</td>\n",
       "      <td>False</td>\n",
       "    </tr>\n",
       "    <tr>\n",
       "      <th>577</th>\n",
       "      <td>False</td>\n",
       "      <td>False</td>\n",
       "      <td>False</td>\n",
       "      <td>False</td>\n",
       "      <td>False</td>\n",
       "      <td>False</td>\n",
       "    </tr>\n",
       "    <tr>\n",
       "      <th>578</th>\n",
       "      <td>False</td>\n",
       "      <td>False</td>\n",
       "      <td>False</td>\n",
       "      <td>False</td>\n",
       "      <td>False</td>\n",
       "      <td>False</td>\n",
       "    </tr>\n",
       "  </tbody>\n",
       "</table>\n",
       "<p>579 rows × 6 columns</p>\n",
       "</div>"
      ],
      "text/plain": [
       "     movie_title  release_date  genre  mpaa_rating  total_gross  \\\n",
       "0          False         False  False        False        False   \n",
       "1          False         False  False        False        False   \n",
       "2          False         False  False        False        False   \n",
       "3          False         False  False        False        False   \n",
       "4          False         False  False        False        False   \n",
       "..           ...           ...    ...          ...          ...   \n",
       "574        False         False  False        False        False   \n",
       "575        False         False  False        False        False   \n",
       "576        False         False  False        False        False   \n",
       "577        False         False  False        False        False   \n",
       "578        False         False  False        False        False   \n",
       "\n",
       "     inflation_adjusted_gross  \n",
       "0                       False  \n",
       "1                       False  \n",
       "2                       False  \n",
       "3                       False  \n",
       "4                       False  \n",
       "..                        ...  \n",
       "574                     False  \n",
       "575                     False  \n",
       "576                     False  \n",
       "577                     False  \n",
       "578                     False  \n",
       "\n",
       "[579 rows x 6 columns]"
      ]
     },
     "execution_count": 32,
     "metadata": {},
     "output_type": "execute_result"
    }
   ],
   "source": [
    "disney_movies.isnull()"
   ]
  },
  {
   "cell_type": "markdown",
   "id": "9ca1e599",
   "metadata": {},
   "source": [
    "* This didn't draw a clear picture of the total number of missing values. Below, let's count them directly"
   ]
  },
  {
   "cell_type": "markdown",
   "id": "92dd8c74",
   "metadata": {},
   "source": [
    "## Final Count of Missing Values"
   ]
  },
  {
   "cell_type": "code",
   "execution_count": 33,
   "id": "7953f30a",
   "metadata": {},
   "outputs": [
    {
     "data": {
      "text/plain": [
       "movie_title                  0\n",
       "release_date                 0\n",
       "genre                       17\n",
       "mpaa_rating                 56\n",
       "total_gross                  0\n",
       "inflation_adjusted_gross     0\n",
       "dtype: int64"
      ]
     },
     "execution_count": 33,
     "metadata": {},
     "output_type": "execute_result"
    }
   ],
   "source": [
    "disney_movies.isnull().sum() #counting the direct number of missing values in row"
   ]
  },
  {
   "cell_type": "markdown",
   "id": "1bb74fc0",
   "metadata": {},
   "source": [
    "* Notes - This maps out and confirms the exact columns( \"genre\" and \"mpaa_rating\") we picked out earlier. Remember above when using disney_movies.info(), we saw genre had 17 null values and 56 null values for mpaa_rating."
   ]
  },
  {
   "cell_type": "markdown",
   "id": "609da913",
   "metadata": {},
   "source": [
    "## Outlier Check for income over 5 billion"
   ]
  },
  {
   "cell_type": "markdown",
   "id": "0cdda979",
   "metadata": {},
   "source": [
    "* If you refer back to our boxplot, 5 is the highest number on the boxplot. 5 represents on that boxplot \\\\$5B. Anything over that represents an outlier. That's what we are going to be checking for below.\n",
    "* This will be applied to each numerical column.(We did most of this back in our boxplot. Let's make sure there are no more hidden outliers we didn't catch beyond $5B)"
   ]
  },
  {
   "cell_type": "markdown",
   "id": "b9024619",
   "metadata": {},
   "source": [
    "Outlier check for *total_gross*  column for over \\\\$5B:"
   ]
  },
  {
   "cell_type": "code",
   "execution_count": 34,
   "id": "34ea31c4",
   "metadata": {},
   "outputs": [
    {
     "data": {
      "text/html": [
       "<div>\n",
       "<style scoped>\n",
       "    .dataframe tbody tr th:only-of-type {\n",
       "        vertical-align: middle;\n",
       "    }\n",
       "\n",
       "    .dataframe tbody tr th {\n",
       "        vertical-align: top;\n",
       "    }\n",
       "\n",
       "    .dataframe thead th {\n",
       "        text-align: right;\n",
       "    }\n",
       "</style>\n",
       "<table border=\"1\" class=\"dataframe\">\n",
       "  <thead>\n",
       "    <tr style=\"text-align: right;\">\n",
       "      <th></th>\n",
       "      <th>movie_title</th>\n",
       "      <th>release_date</th>\n",
       "      <th>genre</th>\n",
       "      <th>mpaa_rating</th>\n",
       "      <th>total_gross</th>\n",
       "      <th>inflation_adjusted_gross</th>\n",
       "    </tr>\n",
       "  </thead>\n",
       "  <tbody>\n",
       "  </tbody>\n",
       "</table>\n",
       "</div>"
      ],
      "text/plain": [
       "Empty DataFrame\n",
       "Columns: [movie_title, release_date, genre, mpaa_rating, total_gross, inflation_adjusted_gross]\n",
       "Index: []"
      ]
     },
     "execution_count": 34,
     "metadata": {},
     "output_type": "execute_result"
    }
   ],
   "source": [
    "disney_movies[disney_movies.total_gross>5000000000]"
   ]
  },
  {
   "cell_type": "markdown",
   "id": "cfc6c5de",
   "metadata": {},
   "source": [
    "This confirms that there isn't any movies over \\\\$5B for the total_gross column."
   ]
  },
  {
   "cell_type": "markdown",
   "id": "623df180",
   "metadata": {},
   "source": [
    "Outlier check for inflation_adjusted_gross for over \\\\$5B:"
   ]
  },
  {
   "cell_type": "code",
   "execution_count": 35,
   "id": "f66a1da7",
   "metadata": {},
   "outputs": [
    {
     "data": {
      "text/html": [
       "<div>\n",
       "<style scoped>\n",
       "    .dataframe tbody tr th:only-of-type {\n",
       "        vertical-align: middle;\n",
       "    }\n",
       "\n",
       "    .dataframe tbody tr th {\n",
       "        vertical-align: top;\n",
       "    }\n",
       "\n",
       "    .dataframe thead th {\n",
       "        text-align: right;\n",
       "    }\n",
       "</style>\n",
       "<table border=\"1\" class=\"dataframe\">\n",
       "  <thead>\n",
       "    <tr style=\"text-align: right;\">\n",
       "      <th></th>\n",
       "      <th>movie_title</th>\n",
       "      <th>release_date</th>\n",
       "      <th>genre</th>\n",
       "      <th>mpaa_rating</th>\n",
       "      <th>total_gross</th>\n",
       "      <th>inflation_adjusted_gross</th>\n",
       "    </tr>\n",
       "  </thead>\n",
       "  <tbody>\n",
       "    <tr>\n",
       "      <th>0</th>\n",
       "      <td>Snow White and the Seven Dwarfs</td>\n",
       "      <td>12/21/1937</td>\n",
       "      <td>Musical</td>\n",
       "      <td>G</td>\n",
       "      <td>184925485</td>\n",
       "      <td>5228953251</td>\n",
       "    </tr>\n",
       "  </tbody>\n",
       "</table>\n",
       "</div>"
      ],
      "text/plain": [
       "                       movie_title release_date    genre mpaa_rating  \\\n",
       "0  Snow White and the Seven Dwarfs   12/21/1937  Musical           G   \n",
       "\n",
       "   total_gross  inflation_adjusted_gross  \n",
       "0    184925485                5228953251  "
      ]
     },
     "execution_count": 35,
     "metadata": {},
     "output_type": "execute_result"
    }
   ],
   "source": [
    "disney_movies[disney_movies.inflation_adjusted_gross>5000000000]"
   ]
  },
  {
   "cell_type": "markdown",
   "id": "f19d6b34",
   "metadata": {},
   "source": [
    "* Snow White and the Seven Dwarfs still Dominates! This was an extra check since on our max value at ROW 0 is the movie above: Snow White and the Seven Dwarfs and I decided to keep this outlier (with the explanation in that above paragraph.)"
   ]
  },
  {
   "cell_type": "markdown",
   "id": "5f1822af",
   "metadata": {},
   "source": [
    "### Checking and removing columns that are  90% empty - if any "
   ]
  },
  {
   "cell_type": "markdown",
   "id": "2a9fe134",
   "metadata": {},
   "source": [
    "* Dropping columns that are 90% empty because you can't do analysis with them."
   ]
  },
  {
   "cell_type": "code",
   "execution_count": 37,
   "id": "78d67d0e",
   "metadata": {},
   "outputs": [
    {
     "data": {
      "text/plain": [
       "57.900000000000006"
      ]
     },
     "execution_count": 37,
     "metadata": {},
     "output_type": "execute_result"
    }
   ],
   "source": [
    "threshold = len(disney_movies)*0.1     #10% (my rows =57.9) #splittling data 90 and 10%\n",
    "threshold"
   ]
  },
  {
   "cell_type": "code",
   "execution_count": 38,
   "id": "9715bc33",
   "metadata": {},
   "outputs": [],
   "source": [
    "disney_movies.dropna(thresh=threshold, axis=1, inplace=True) #setting the axis to 1 because we are dropping columns "
   ]
  },
  {
   "cell_type": "code",
   "execution_count": 39,
   "id": "ae9bbe4c",
   "metadata": {},
   "outputs": [
    {
     "name": "stdout",
     "output_type": "stream",
     "text": [
      "movie_title                  0\n",
      "release_date                 0\n",
      "genre                       17\n",
      "mpaa_rating                 56\n",
      "total_gross                  0\n",
      "inflation_adjusted_gross     0\n",
      "dtype: int64\n"
     ]
    }
   ],
   "source": [
    "print(disney_movies.isnull().sum())"
   ]
  },
  {
   "cell_type": "code",
   "execution_count": 40,
   "id": "5a63ff3e",
   "metadata": {},
   "outputs": [
    {
     "data": {
      "text/plain": [
       "(579, 6)"
      ]
     },
     "execution_count": 40,
     "metadata": {},
     "output_type": "execute_result"
    }
   ],
   "source": [
    "disney_movies.shape #the shape remains the same because no columns have 10% of data missing"
   ]
  },
  {
   "cell_type": "markdown",
   "id": "afab73ee",
   "metadata": {},
   "source": [
    "#### Explanation of above threshold:\n",
    "\n",
    "*I set a threshold of the length of disney_movies dataset which is 579 and multiplying it by 1 (0.1). So 0.1 means \n",
    "we are taking 10% of the total row count of 579. It returns 57.9 . This is 10% of our row count. We are now dropping columns with values less than 10% threshold.*\n",
    "\n",
    "*We saw no columns had less than 10% after using is.null().sum() function. This result was the same count when we used it above so we will move on now.* "
   ]
  },
  {
   "cell_type": "markdown",
   "id": "3d9bd466",
   "metadata": {},
   "source": [
    "###  Data Imputation and Manipulation"
   ]
  },
  {
   "cell_type": "markdown",
   "id": "ef248242",
   "metadata": {},
   "source": [
    "#### Filling in missing null values using aggregate functions such as mean, median, mode. \n",
    "\n",
    "*We saw from our summary statistics the columns with the missing values are in columns genre and mpaa_rating. These columns are both string data, not numerical. As a result, we will be filling the missing values with the mode of the data. (If the columns were numerical that were missing, we would fill in the missing values with median since our data is right skewed).*\n",
    "\n",
    "\n"
   ]
  },
  {
   "cell_type": "markdown",
   "id": "6c664d80",
   "metadata": {},
   "source": [
    "### Fill in the missing categorical values with mode"
   ]
  },
  {
   "cell_type": "code",
   "execution_count": 41,
   "id": "4dfdcb5b",
   "metadata": {},
   "outputs": [
    {
     "name": "stdout",
     "output_type": "stream",
     "text": [
      "0    Comedy\n",
      "dtype: object\n",
      "0    PG\n",
      "dtype: object\n"
     ]
    }
   ],
   "source": [
    "# Checking what the mode values are for these columns modes. Be sure there not bimodal. \n",
    "\n",
    "print(disney_movies['genre'].mode())\n",
    "print(disney_movies['mpaa_rating'].mode())"
   ]
  },
  {
   "cell_type": "markdown",
   "id": "8c93f2a1",
   "metadata": {},
   "source": [
    "*The results above are fortunately unimodal value for each*"
   ]
  },
  {
   "cell_type": "code",
   "execution_count": 43,
   "id": "40499c1e",
   "metadata": {},
   "outputs": [],
   "source": [
    "# Filling now those missing catergorical data values with mode using fillna with a string value \n",
    "\n",
    "disney_movies['genre'].fillna(str(disney_movies['genre'].mode().values[0]), inplace = True)\n",
    "disney_movies['mpaa_rating'].fillna(str(disney_movies['genre'].mode().values[0]), inplace = True)"
   ]
  },
  {
   "cell_type": "code",
   "execution_count": 74,
   "id": "2eee0e2e",
   "metadata": {},
   "outputs": [
    {
     "data": {
      "text/plain": [
       "movie_title                 0\n",
       "release_date                0\n",
       "genre                       0\n",
       "mpaa_rating                 0\n",
       "total_gross                 0\n",
       "inflation_adjusted_gross    0\n",
       "dtype: int64"
      ]
     },
     "execution_count": 74,
     "metadata": {},
     "output_type": "execute_result"
    }
   ],
   "source": [
    "#Now because we filled the null values above, count the missing values below now to ensure they are filled.\n",
    "disney_movies.isnull().sum()"
   ]
  },
  {
   "cell_type": "markdown",
   "id": "5a030cea",
   "metadata": {},
   "source": [
    "#### You can clearly see that the missing nulls are all taken care of :)"
   ]
  },
  {
   "cell_type": "markdown",
   "id": "163a5f56",
   "metadata": {},
   "source": [
    "## Data Visualization"
   ]
  },
  {
   "cell_type": "markdown",
   "id": "ce3c1416",
   "metadata": {},
   "source": [
    "* Now below I am grouping the data based on the Disney Movie *'genre'.* "
   ]
  },
  {
   "cell_type": "code",
   "execution_count": 93,
   "id": "7587804d",
   "metadata": {},
   "outputs": [
    {
     "name": "stdout",
     "output_type": "stream",
     "text": [
      "genre\n",
      "Action                  4184563282\n",
      "Adventure              16389069453\n",
      "Black Comedy              97543212\n",
      "Comedy                  8237666691\n",
      "Concert/Performance      103456466\n",
      "Documentary              180685619\n",
      "Drama                   4106972970\n",
      "Horror                    87068872\n",
      "Musical                 1157284155\n",
      "Romantic Comedy         1152206855\n",
      "Thriller/Suspense       1406806519\n",
      "Western                  359011459\n",
      "Name: total_gross, dtype: int64\n",
      "genre\n",
      "Action                  5498936786\n",
      "Adventure              24561266158\n",
      "Black Comedy             156730475\n",
      "Comedy                 15777130297\n",
      "Concert/Performance      114821678\n",
      "Documentary              203488418\n",
      "Drama                   8195804484\n",
      "Horror                   140483092\n",
      "Musical                 9657565776\n",
      "Romantic Comedy         1788872933\n",
      "Thriller/Suspense       2151690954\n",
      "Western                  516709946\n",
      "Name: inflation_adjusted_gross, dtype: int64\n"
     ]
    }
   ],
   "source": [
    "#grouping all the movies into containers of their genre and storing them away in a variable called grp\n",
    "grp = disney_movies.groupby('genre')\n",
    "x = grp['total_gross'].agg(np.sum) #extracting the total_gross column and aggregating to see how much was made by catergorgy \n",
    "y =grp['inflation_adjusted_gross'].agg(np.sum) # extracting inflation adjusted gross column to see how much income was made by genre\n",
    " \n",
    "\n",
    "print(x)\n",
    "print(y)\n"
   ]
  },
  {
   "cell_type": "markdown",
   "id": "debb2d8d",
   "metadata": {},
   "source": [
    "Created x and y variable(s) of both numerical columns and used sum to find the total income for each genre in both total_gross and inflation_adjusted_gross."
   ]
  },
  {
   "cell_type": "markdown",
   "id": "a49abfe8",
   "metadata": {},
   "source": [
    "* By using sum, it will show per genre how much income the movies made total. We can clearly see the Adventure genre made the most income for both income numerical columns."
   ]
  },
  {
   "cell_type": "markdown",
   "id": "27951640",
   "metadata": {},
   "source": [
    " ## Creating the X Visualization from above\n",
    " #### See these statistics above perfectly in graphical representations!"
   ]
  },
  {
   "cell_type": "markdown",
   "id": "1e6d63bb",
   "metadata": {},
   "source": [
    "Creating a straightforward simple visualization in matplotlib of these below to easily understand the total sum income for each genre for x variable total_gross."
   ]
  },
  {
   "cell_type": "code",
   "execution_count": 46,
   "id": "be474e89",
   "metadata": {},
   "outputs": [
    {
     "data": {
      "image/png": "[encoded data removed]",
      "text/plain": [
       "<Figure size 1224x432 with 1 Axes>"
      ]
     },
     "metadata": {
      "needs_background": "light"
     },
     "output_type": "display_data"
    }
   ],
   "source": [
    "plt.figure(figsize=(17,6))\n",
    "plt.plot(x,marker ='o',color ='Red', ms =20, mec ='DeepSkyBlue')\n",
    "\n",
    "font1 = {'family':'serif','color':'Red','size':25}\n",
    "font2 = {'family':'serif','color':'Red','size':25}\n",
    "font3 = {'family':'serif','color':'#FF0000', 'size':30}\n",
    "         \n",
    "plt.xticks(rotation =45)\n",
    "\n",
    "\n",
    "\n",
    "\n",
    "plt.xlabel(' Disney Movie Genre ', fontdict = font2, loc ='right')\n",
    "plt.ylabel('Total Gross Income', fontdict= font1)\n",
    "plt.title(' Total Gross Income of the Disney Movies', loc ='right',fontdict = font3)\n",
    "plt.grid(axis ='y',linewidth = 1)\n",
    "\n",
    "plt.show()"
   ]
  },
  {
   "cell_type": "markdown",
   "id": "08175225",
   "metadata": {},
   "source": [
    "## Now to create a Y Visualization "
   ]
  },
  {
   "cell_type": "code",
   "execution_count": 48,
   "id": "76294214",
   "metadata": {},
   "outputs": [
    {
     "data": {
      "image/png": "[encoded data removed]",
      "text/plain": [
       "<Figure size 1224x432 with 1 Axes>"
      ]
     },
     "metadata": {},
     "output_type": "display_data"
    }
   ],
   "source": [
    "plt.figure(figsize=(17,6))\n",
    "plt.plot(y,'^',color ='hotpink',markersize =10)\n",
    "plt.xticks(rotation =45, fontsize=15,fontweight ='bold')\n",
    "plt.xlabel(' Disney Movie Genre ', fontsize=20, fontweight ='bold',fontname=\"Times New Roman\")\n",
    "plt.ylabel(' Inflation Adjusted Gross Income', fontsize =20, fontname=\"Times New Roman\", fontweight ='bold')\n",
    "plt.suptitle(' Disney Movie Inflation Adjusted Gross Income Total',fontname=\"Times New Roman\", fontweight=\"bold\", color ='hotpink', fontsize=30)\n",
    "plt.grid()\n",
    "\n",
    "#using the style \n",
    "plt.style.use('fivethirtyeight')\n",
    "\n",
    "\n",
    "plt.grid()\n",
    "\n",
    "plt.show()\n",
    "\n"
   ]
  },
  {
   "cell_type": "markdown",
   "id": "83f74c3a",
   "metadata": {},
   "source": [
    "* How to read this graph: Look at 0.5 on the y axis and see le10 at the top, that means 0.5 is translated to $5B. Heads up on to better understand the graph*\n",
    "\n",
    "*Inflation Adjusted Income Definition: \"the purpose of the inflation-adjusted return metric is to reveal the return on an investment after removing the effects of inflation.*\n",
    "\n",
    "* Also known as the real return, the inflation-adjusted return provides a more realistic comparison of an investment's performance\". Adam Hayes, 29, May 2021, Inflation-Adjusted Return Definition (investopedia.com)*"
   ]
  },
  {
   "cell_type": "markdown",
   "id": "24dbe922",
   "metadata": {},
   "source": [
    "### Findings/ Observations/ Notes: \n",
    "\n",
    "#### The  Highest Income Genre : Adventure \n",
    "\n",
    "##### Adventure Genre\n",
    "Adventure for the win! After looking at both graphs, Adventure has the greatest income for both numerical columns as confirmed prior. Within the inflation adjusted gross income, it hits almost the at \\\\$25B . That's incredible! This also can be confirmed in our group stats picture right above the first visual graph. We can see that highest number total income for this genre is presented in our inflation adjusted gross column at $24,561,266,158. (*In example theory* When proceeding to create your presentation to Disney stakeholders, tell them how you came to this finding and your recommendations to keep producing this genre as it's their highest income source in movies.)\n",
    "\n",
    " \n",
    "\n",
    "#### Unpacking the relationship between total gross income vs. inflation adjusted gross income: \n",
    "\n",
    "#### Each Disney Genres Observations/Brainstorming Notes\n",
    "\n",
    "1.)  Action: We can visually see from the original total_gross graph markers there is a slight increase in income in the inflation adjusted gross income total. This is confirmed in our graph \\\\$4,184,563,282 → \\\\$5,498,936,786.\n",
    "\n",
    "2.)) Adventure: Adventure is #1 recommendation to Disney to keep producing this product: Both graphs showcase markers at the highest height of the graph with a total gross of \\\\$16,389,069,453 and climbs in our second column to \\\\$24,561,266,158.\n",
    "3.) Black Comedy appears to one of the genres that have the lower amount of income produced. We can see the relationship in our first and second graph look very similar at the 0.0 marker, (under \\\\$200M). The direct comparisons numbers of the total gross is \\\\$97,543,212 and after adjusted inflation gross income rises to \\\\$156,730,475.\n",
    "\n",
    "* With the first 3 genres we can observe the relationship of both incomes that there is a rise in income after inflation adjusted gross income is accounted for. *\n",
    "\n",
    "4.) Comedy: Comedy is the second highest genre income in both graphs. This genre is one of the most profitable and this would definitely be a product to present to stakeholders to keep and expand their production in development growth. It has an increase in our inflation adjusted gross with a total income of \\\\$15,777,130,297!\n",
    "\n",
    "5.) Concert Performance:The graphs show clearly that this genre produced one of the lowest incomes at the 0.0 marker under \\\\$200M. The exact totals are Total Gross: \\\\$103,456,466.\n",
    "\n",
    "Adjusted Gross Inflation: \\\\$114,821,678. Example how to present stakeholders  - \"This a genre that still holds value because it shows that even though it has generated lower income significantly less than some others, stakeholders can choose to invest in performance improvement for the Concert/Performance category or remove the product altogether\".\n",
    "\n",
    "6.) Documentary:Documentary genre appears in both graphs to be at 0.0 marker under \\\\$200M in income. This genre has one of the lowest incomes produced. Total Gross- \\\\$180,685,619 and Inflation Adjusted Gross \\\\$203,488,418 (*Example Thought Process*| When presenting to stakeholders, showcase how there is opportunity for improvement their product with this specific genre).\n",
    "\n",
    "7.) Drama: Drama shows in the total_gross x graph that it is the third highest genre in income at a little over the \\\\$4B mark at \\\\$4,106,972,970 in total gross. We see a direct increase over \\\\$8B marker at \\\\$8,195,804,484 in the y graph.\n",
    "\n",
    "8.) Horror: This genre is our lowest income in total gross at \\\\$87,068,872. This shows on both graph markers. It increases a tad  after inflation in our second graph at \\\\$140,483,092. This income amount is right above our Concert/Performance genre after inflation.\n",
    "\n",
    "9.) Musical: Now, this genre is interesting. It clearly shows in our first graph that it points towards more of our lower income genres, as it's in between 0.0–0.2 marker. However, in the second graph, it is the third highest income genre at almost the $1B after calculations inflation adjusted gross income. This is confirmed in our stats picture above and our findings that the relationship in income for Disney movies increases significantly in inflation.\n",
    "\n",
    "10.) Romantic Comedy: Romantic comedy is shown on both graphs to appear to be lower to lower(mid) around \\\\$1B in terms of income and increased after inflation was calculated in our second graph at \\\\$1,788,872,933. \n",
    "\n",
    "11.) Thriller and Suspense: Thriller & Suspense hits above the \\\\$1B mark on both graphs. The x graph we see in the original total gross calculated \\\\$1,406,806,519 and jumps to over \\\\$2B in inflation is calculated \\\\$2,151,690,954 in the y graph.\n",
    "\n",
    "12.)Western: Western sits above the 0.0 marker in both graphs for the total gross \\\\$359,011,459 → shifts to increase in adjusted gross income \\\\$516,709,946. Western is discovered to be Disney's lowest income genre out of all the genres.\n",
    "\n",
    "\n",
    "#### Questions Answered- Pulling the Assets out of the data : \n",
    "\n",
    "Based on observations/thoughts/notes it's important to pull the gemstones  and the assets out of the dataset so you can show stakeholders what products in the business produces the most in income and also what doesn't. In the case the product produces the lowest income, you can suggest that the product can be invested in for improvement or be dropped.\n",
    "\n",
    "Based off Observations,\n",
    "\n",
    "* What are some Genre (s) had the lowest income?  \n",
    "      \n",
    "    Answer   Answer: TOP 3 GENRES for x graph | total_gross\n",
    "    \n",
    "     1.) *Horror* at the lowest total gross income\n",
    "     2.) *Black Comedy* had the second lowest total gross income \n",
    "     3.) *Concert/Performance* had the third lowest total gross income\n",
    "\n",
    "#### We see these numbers shift and reorder the the top 3 lowest income movie genres with inflation adjusted gross rising the income levels.\n",
    " \n",
    "ANS: TOP 3 for our y graph | Total Gross of Inflation Adjusted Gross\n",
    "\n",
    "  1.) *Concert/Performance is our lowest income genre \n",
    "  2.) *Horror is second lowest income genre\n",
    "  3.) *Black/Comedy is our third lowest income genre after inflation adjusted gross.\n",
    "  \n",
    "  Comments: We see these genres shift in order rising income levels in inflation adjusted gross in the y graph.\n",
    "\n",
    "#### * What Genre(s) had the highest income?\n",
    "\n",
    " Answer for our x graph| total_gross \n",
    "TOP 3\n",
    "    \n",
    "1.) Adventure is the top genre with the most total gross\n",
    "2.)  Comedy is the Second \n",
    "3.) Action is the third genre with the most total gross\n",
    "\n",
    "Answer for y graph| Total Inflation Adjusted Gross by Genre\n",
    " 1.) *Adventure*  comes in first \n",
    " 2.) *Comedy* comes in second most profitable\n",
    " 3.) *Musical* comes in third \n",
    "\n",
    "\n",
    "\n",
    "##### * What Genre(s) fell in the median range (in terms of income)? \n",
    "\n",
    "Ans: Some Included, Drama in both,  Action (After inflation adjustments were calculated), Thriller and Suspense (inflation adjusted gross)"
   ]
  },
  {
   "cell_type": "markdown",
   "id": "922abb72",
   "metadata": {},
   "source": [
    "#### Adventure and the Comedy Genre are the Top 2 most profitable! Great example on pulling the gold or the asset out of the data for stakeholders to show which product is most lucrative. Based off of these answers above…Let's take it a step further and ask more questions about what are the specific movie titles that contributed to these findings\n",
    "\n",
    "Overview of Movie Title Questions below that we will be exploring in SQLite→\n",
    "\n",
    "* 1.) Given Concert/Perfomance is the genre with the lowest income (in inflation adjusted gross), what are the movie titles in *Concert/Performance* with the lowest income in inflation adjusted gross that contributed to this finding?\n",
    "\n",
    "     Sub Question: * Given Horror is the genre with the lowest income(in total_gross), what are movie titles in *Horror* contributed to this finding?\n",
    "     \n",
    "* 2.) What are movie titles that are producing the lowest amounts of income overall in both total gross and inflation adjusted gross income columns ?\n",
    "\n",
    "* 3.) What are some of the top Disney Movie titles that has the highest inflation adjusted gross income regardless of genre?\n",
    "     * What are the most profitable movie title's without the inflation adjusted gross income in just plainly total_gross?\n",
    "\n",
    "* 4.) Given Adventure is our top Genre, What are the Disney Movies in the Adventure Genre that were the most profitable?\n",
    "\n",
    "* 5.)Given Comedy is the second top genre, What are the Disney Movies in the Adventure Genre that were the most profitable?\n",
    "\n",
    "*Using combo SQLlite and python filtering below in further analysis to answer these questions*"
   ]
  },
  {
   "cell_type": "markdown",
   "id": "14e04666",
   "metadata": {},
   "source": [
    "1.) Given Concert/Performance is the genre with the lowest income (in inflation adjusted gross), what are the movie titles in Concert/Performance with the lowest income in inflation adjusted gross that contributed to this finding?"
   ]
  },
  {
   "cell_type": "code",
   "execution_count": 35,
   "id": "55da6d5b",
   "metadata": {},
   "outputs": [],
   "source": [
    "#creating a dataframe \n",
    "disneysql = pd.read_csv(\"C:\\\\Users\\\\Alexandria\\\\Downloads\\\\disney\\\\disney_movies.csv\")\n",
    "\n",
    "#We will use sqlite3 library and create a connection.\n",
    "\n"
   ]
  },
  {
   "cell_type": "code",
   "execution_count": 36,
   "id": "a100d638",
   "metadata": {},
   "outputs": [],
   "source": [
    "conn = sqlite3.connect(\"Disney.db\")"
   ]
  },
  {
   "cell_type": "code",
   "execution_count": 38,
   "id": "133734c5",
   "metadata": {},
   "outputs": [],
   "source": [
    "\n",
    "disneysql.to_sql('Disney_Movies_3', conn)\n"
   ]
  },
  {
   "cell_type": "code",
   "execution_count": 39,
   "id": "a3a73d22",
   "metadata": {},
   "outputs": [],
   "source": [
    "\n",
    "%load_ext sql\n",
    "%sql sqlite:///Disney.db"
   ]
  },
  {
   "cell_type": "code",
   "execution_count": 40,
   "id": "0e24576e",
   "metadata": {},
   "outputs": [
    {
     "name": "stdout",
     "output_type": "stream",
     "text": [
      " * sqlite:///Disney.db\n",
      "Done.\n"
     ]
    },
    {
     "data": {
      "text/html": [
       "<table>\n",
       "    <tr>\n",
       "        <th>index</th>\n",
       "        <th>movie_title</th>\n",
       "        <th>release_date</th>\n",
       "        <th>genre</th>\n",
       "        <th>mpaa_rating</th>\n",
       "        <th>total_gross</th>\n",
       "        <th>inflation_adjusted_gross</th>\n",
       "    </tr>\n",
       "    <tr>\n",
       "        <td>478</td>\n",
       "        <td>Jonas Brothers: The 3D Concert Experiâ€¦</td>\n",
       "        <td>2/27/2009</td>\n",
       "        <td>Concert/Performance</td>\n",
       "        <td>G</td>\n",
       "        <td>38174685</td>\n",
       "        <td>38174685</td>\n",
       "    </tr>\n",
       "    <tr>\n",
       "        <td>464</td>\n",
       "        <td>Hannah Montana/Miley Cyrus: Best of Bâ€¦</td>\n",
       "        <td>2/1/2008</td>\n",
       "        <td>Concert/Performance</td>\n",
       "        <td>G</td>\n",
       "        <td>65281781</td>\n",
       "        <td>76646993</td>\n",
       "    </tr>\n",
       "</table>"
      ],
      "text/plain": [
       "[(478, 'Jonas Brothers: The 3D Concert Experiâ€¦', '2/27/2009', 'Concert/Performance', 'G', 38174685, 38174685),\n",
       " (464, 'Hannah Montana/Miley Cyrus: Best of Bâ€¦', '2/1/2008', 'Concert/Performance', 'G', 65281781, 76646993)]"
      ]
     },
     "execution_count": 40,
     "metadata": {},
     "output_type": "execute_result"
    }
   ],
   "source": [
    "%%sql\n",
    "\n",
    "SELECT * \n",
    "FROM Disney_Movies_Data\n",
    "WHERE \"genre\" = 'Concert/Performance' AND \"inflation_adjusted_gross\" <= 300000000\n",
    "ORDER BY 6 ASC;"
   ]
  },
  {
   "cell_type": "markdown",
   "id": "50990301",
   "metadata": {},
   "source": [
    "Completing below minor cleaning to both movie title names in the above photo to remove special characters to the correct movie , (as mentioned emphasizes on data cleaning is beyond the scope of this project, independent projects available on data cleaning)"
   ]
  },
  {
   "cell_type": "code",
   "execution_count": 41,
   "id": "d7ec1800",
   "metadata": {},
   "outputs": [
    {
     "name": "stdout",
     "output_type": "stream",
     "text": [
      "                                   movie_title release_date  \\\n",
      "478  Jonas Brothers: The 3D Concert Experience    2/27/2009   \n",
      "\n",
      "                   genre mpaa_rating  total_gross  inflation_adjusted_gross  \n",
      "478  Concert/Performance           G     38174685                  38174685  \n",
      "                                           movie_title release_date  \\\n",
      "464  Hannah Montana/Miley Cyrus: Best of Both World...     2/1/2008   \n",
      "\n",
      "                   genre mpaa_rating  total_gross  inflation_adjusted_gross  \n",
      "464  Concert/Performance           G     65281781                  76646993  \n"
     ]
    }
   ],
   "source": [
    "jns = disney_movies.replace('Jonas Brothers: The 3D Concert Experiâ€¦', 'Jonas Brothers: The 3D Concert Experience')\n",
    "hmb =disney_movies.replace('Hannah Montana/Miley Cyrus: Best of Bâ€¦', 'Hannah Montana/Miley Cyrus: Best of Both Worlds Concert')\n",
    "print(jns.loc[[478]])\n",
    "print(hmb.loc[[464]])\n"
   ]
  },
  {
   "cell_type": "markdown",
   "id": "4bb7ed9e",
   "metadata": {},
   "source": [
    "We can see these movie 2 titles that shape our answer. I set the filter to under $300M in gross to see out movies with the lowest gross income numbers.\n",
    "\n",
    "*It's also great to see in a dataset what isn't producing massive income the assets that way you can communicate to stakeholders a product with an oppurntunity to improve the product and add value or to remove the product.*"
   ]
  },
  {
   "cell_type": "markdown",
   "id": "76091267",
   "metadata": {},
   "source": [
    " #### Sub Question* Given Horror is the genre with the lowest income(in total_gross), what are movie titles in *Horror* contributed to this finding?"
   ]
  },
  {
   "cell_type": "markdown",
   "id": "9b55af43",
   "metadata": {},
   "source": [
    "(Even though the questions ask for specifically movie titles, I will be still Selecting with * instead of just \"movie titles\" in the SELECT statement to see the genre and the rest of data information for the following questions for the scope of this project and so that it's clear and congruent with the earlier findings for readers)"
   ]
  },
  {
   "cell_type": "code",
   "execution_count": 42,
   "id": "18e5ece7",
   "metadata": {},
   "outputs": [
    {
     "name": "stdout",
     "output_type": "stream",
     "text": [
      " * sqlite:///Disney.db\n",
      "Done.\n"
     ]
    },
    {
     "data": {
      "text/html": [
       "<table>\n",
       "    <tr>\n",
       "        <th>index</th>\n",
       "        <th>movie_title</th>\n",
       "        <th>release_date</th>\n",
       "        <th>genre</th>\n",
       "        <th>mpaa_rating</th>\n",
       "        <th>total_gross</th>\n",
       "        <th>inflation_adjusted_gross</th>\n",
       "    </tr>\n",
       "    <tr>\n",
       "        <td>131</td>\n",
       "        <td>Innocent Blood</td>\n",
       "        <td>9/25/1992</td>\n",
       "        <td>Horror</td>\n",
       "        <td>R</td>\n",
       "        <td>4877567</td>\n",
       "        <td>9907922</td>\n",
       "    </tr>\n",
       "    <tr>\n",
       "        <td>34</td>\n",
       "        <td>Something Wicked This Way Comes</td>\n",
       "        <td>4/29/1983</td>\n",
       "        <td>Horror</td>\n",
       "        <td>None</td>\n",
       "        <td>5656087</td>\n",
       "        <td>15136765</td>\n",
       "    </tr>\n",
       "    <tr>\n",
       "        <td>190</td>\n",
       "        <td>The Puppet Masters</td>\n",
       "        <td>10/21/1994</td>\n",
       "        <td>Horror</td>\n",
       "        <td>R</td>\n",
       "        <td>8579626</td>\n",
       "        <td>17727017</td>\n",
       "    </tr>\n",
       "    <tr>\n",
       "        <td>517</td>\n",
       "        <td>Fright Night</td>\n",
       "        <td>8/19/2011</td>\n",
       "        <td>Horror</td>\n",
       "        <td>R</td>\n",
       "        <td>18298649</td>\n",
       "        <td>19452402</td>\n",
       "    </tr>\n",
       "    <tr>\n",
       "        <td>436</td>\n",
       "        <td>Stay Alive</td>\n",
       "        <td>3/24/2006</td>\n",
       "        <td>Horror</td>\n",
       "        <td>PG-13</td>\n",
       "        <td>23086480</td>\n",
       "        <td>29712825</td>\n",
       "    </tr>\n",
       "    <tr>\n",
       "        <td>275</td>\n",
       "        <td>An American Werewolf in Paris</td>\n",
       "        <td>12/25/1997</td>\n",
       "        <td>Horror</td>\n",
       "        <td>R</td>\n",
       "        <td>26570463</td>\n",
       "        <td>48546161</td>\n",
       "    </tr>\n",
       "</table>"
      ],
      "text/plain": [
       "[(131, 'Innocent Blood', '9/25/1992', 'Horror', 'R', 4877567, 9907922),\n",
       " (34, 'Something Wicked This Way Comes', '4/29/1983', 'Horror', None, 5656087, 15136765),\n",
       " (190, 'The Puppet Masters', '10/21/1994', 'Horror', 'R', 8579626, 17727017),\n",
       " (517, 'Fright Night', '8/19/2011', 'Horror', 'R', 18298649, 19452402),\n",
       " (436, 'Stay Alive', '3/24/2006', 'Horror', 'PG-13', 23086480, 29712825),\n",
       " (275, 'An American Werewolf in Paris', '12/25/1997', 'Horror', 'R', 26570463, 48546161)]"
      ]
     },
     "execution_count": 42,
     "metadata": {},
     "output_type": "execute_result"
    }
   ],
   "source": [
    "%%sql\n",
    "\n",
    "SELECT * \n",
    "FROM Disney_Movies_Data\n",
    "WHERE \"genre\" = 'Horror' AND \"total_gross\" <= 30000000\n",
    "ORDER BY 6 ASC;"
   ]
  },
  {
   "cell_type": "markdown",
   "id": "3df771b7",
   "metadata": {},
   "source": [
    "*The Innocent Blood* is the movie title with the lowest income recorded in our map.  *Something Wicked This Way Comes* comes in second while *The Puppet Masters* take third lowest. This maps out 6 for the movie title's with the lowest income that contributed to the genre's income performance.Have you heard of these movies?"
   ]
  },
  {
   "cell_type": "markdown",
   "id": "7e457b72",
   "metadata": {},
   "source": [
    "#### 2.)What are movie titles that are producing the lowest amounts of income overall in both total gross and inflation adjusted gross income columns ?"
   ]
  },
  {
   "cell_type": "code",
   "execution_count": 21,
   "id": "4f4c2aad",
   "metadata": {},
   "outputs": [
    {
     "name": "stdout",
     "output_type": "stream",
     "text": [
      " * sqlite:///Disney.db\n",
      "Done.\n"
     ]
    },
    {
     "data": {
      "text/html": [
       "<table>\n",
       "    <tr>\n",
       "        <th>index</th>\n",
       "        <th>movie_title</th>\n",
       "        <th>release_date</th>\n",
       "        <th>genre</th>\n",
       "        <th>mpaa_rating</th>\n",
       "        <th>total_gross</th>\n",
       "        <th>inflation_adjusted_gross</th>\n",
       "    </tr>\n",
       "    <tr>\n",
       "        <td>20</td>\n",
       "        <td>The Many Adventures of Winnie the Pooh</td>\n",
       "        <td>3/11/1977</td>\n",
       "        <td>None</td>\n",
       "        <td>None</td>\n",
       "        <td>0</td>\n",
       "        <td>0</td>\n",
       "    </tr>\n",
       "    <tr>\n",
       "        <td>27</td>\n",
       "        <td>Amy</td>\n",
       "        <td>3/20/1981</td>\n",
       "        <td>Drama</td>\n",
       "        <td>None</td>\n",
       "        <td>0</td>\n",
       "        <td>0</td>\n",
       "    </tr>\n",
       "    <tr>\n",
       "        <td>29</td>\n",
       "        <td>Condorman</td>\n",
       "        <td>8/7/1981</td>\n",
       "        <td>Action</td>\n",
       "        <td>None</td>\n",
       "        <td>0</td>\n",
       "        <td>0</td>\n",
       "    </tr>\n",
       "    <tr>\n",
       "        <td>355</td>\n",
       "        <td>Frank McKlusky C.I.</td>\n",
       "        <td>1/1/2002</td>\n",
       "        <td>None</td>\n",
       "        <td>None</td>\n",
       "        <td>0</td>\n",
       "        <td>0</td>\n",
       "    </tr>\n",
       "    <tr>\n",
       "        <td>511</td>\n",
       "        <td>Zokkomon</td>\n",
       "        <td>4/22/2011</td>\n",
       "        <td>Adventure</td>\n",
       "        <td>PG</td>\n",
       "        <td>2815</td>\n",
       "        <td>2984</td>\n",
       "    </tr>\n",
       "    <tr>\n",
       "        <td>487</td>\n",
       "        <td>Walt and El Grupo</td>\n",
       "        <td>9/10/2009</td>\n",
       "        <td>Documentary</td>\n",
       "        <td>PG</td>\n",
       "        <td>20521</td>\n",
       "        <td>23064</td>\n",
       "    </tr>\n",
       "    <tr>\n",
       "        <td>251</td>\n",
       "        <td>The War at Home</td>\n",
       "        <td>11/20/1996</td>\n",
       "        <td>None</td>\n",
       "        <td>R</td>\n",
       "        <td>34368</td>\n",
       "        <td>65543</td>\n",
       "    </tr>\n",
       "    <tr>\n",
       "        <td>280</td>\n",
       "        <td>An Alan Smithee Film: Burn Hollywood â€¦</td>\n",
       "        <td>2/27/1998</td>\n",
       "        <td>Comedy</td>\n",
       "        <td>R</td>\n",
       "        <td>45779</td>\n",
       "        <td>82277</td>\n",
       "    </tr>\n",
       "    <tr>\n",
       "        <td>502</td>\n",
       "        <td>Gedo Senki (Tales from Earthsea)</td>\n",
       "        <td>8/13/2010</td>\n",
       "        <td>Adventure</td>\n",
       "        <td>PG-13</td>\n",
       "        <td>48658</td>\n",
       "        <td>51988</td>\n",
       "    </tr>\n",
       "    <tr>\n",
       "        <td>185</td>\n",
       "        <td>It&#x27;s Pat</td>\n",
       "        <td>8/26/1994</td>\n",
       "        <td>Comedy</td>\n",
       "        <td>None</td>\n",
       "        <td>60822</td>\n",
       "        <td>125666</td>\n",
       "    </tr>\n",
       "    <tr>\n",
       "        <td>495</td>\n",
       "        <td>Waking Sleeping Beauty</td>\n",
       "        <td>3/26/2010</td>\n",
       "        <td>Documentary</td>\n",
       "        <td>PG</td>\n",
       "        <td>80741</td>\n",
       "        <td>86264</td>\n",
       "    </tr>\n",
       "    <tr>\n",
       "        <td>311</td>\n",
       "        <td>Breakfast of Champions</td>\n",
       "        <td>9/17/1999</td>\n",
       "        <td>Comedy</td>\n",
       "        <td>R</td>\n",
       "        <td>178287</td>\n",
       "        <td>295851</td>\n",
       "    </tr>\n",
       "    <tr>\n",
       "        <td>470</td>\n",
       "        <td>Goal! 2: Living the Dream...</td>\n",
       "        <td>8/29/2008</td>\n",
       "        <td>Drama</td>\n",
       "        <td>PG-13</td>\n",
       "        <td>225067</td>\n",
       "        <td>264247</td>\n",
       "    </tr>\n",
       "    <tr>\n",
       "        <td>350</td>\n",
       "        <td>High Heels and Low Lifes</td>\n",
       "        <td>10/26/2001</td>\n",
       "        <td>None</td>\n",
       "        <td>R</td>\n",
       "        <td>226792</td>\n",
       "        <td>337782</td>\n",
       "    </tr>\n",
       "    <tr>\n",
       "        <td>304</td>\n",
       "        <td>Endurance</td>\n",
       "        <td>5/14/1999</td>\n",
       "        <td>None</td>\n",
       "        <td>PG</td>\n",
       "        <td>229128</td>\n",
       "        <td>380218</td>\n",
       "    </tr>\n",
       "    <tr>\n",
       "        <td>473</td>\n",
       "        <td>Morning Light</td>\n",
       "        <td>10/17/2008</td>\n",
       "        <td>Documentary</td>\n",
       "        <td>PG</td>\n",
       "        <td>275093</td>\n",
       "        <td>322979</td>\n",
       "    </tr>\n",
       "    <tr>\n",
       "        <td>220</td>\n",
       "        <td>Feast of July</td>\n",
       "        <td>10/13/1995</td>\n",
       "        <td>Drama</td>\n",
       "        <td>R</td>\n",
       "        <td>293274</td>\n",
       "        <td>568342</td>\n",
       "    </tr>\n",
       "    <tr>\n",
       "        <td>404</td>\n",
       "        <td>America&#x27;s Heart and Soul</td>\n",
       "        <td>7/2/2004</td>\n",
       "        <td>Documentary</td>\n",
       "        <td>Not Rated</td>\n",
       "        <td>314000</td>\n",
       "        <td>426246</td>\n",
       "    </tr>\n",
       "    <tr>\n",
       "        <td>409</td>\n",
       "        <td>The Last Shot</td>\n",
       "        <td>9/24/2004</td>\n",
       "        <td>Comedy</td>\n",
       "        <td>R</td>\n",
       "        <td>463730</td>\n",
       "        <td>629502</td>\n",
       "    </tr>\n",
       "    <tr>\n",
       "        <td>203</td>\n",
       "        <td>A Pyromaniac&#x27;s Love Story</td>\n",
       "        <td>3/28/1995</td>\n",
       "        <td>Romantic Comedy</td>\n",
       "        <td>PG</td>\n",
       "        <td>468240</td>\n",
       "        <td>907414</td>\n",
       "    </tr>\n",
       "</table>"
      ],
      "text/plain": [
       "[(20, 'The Many Adventures of Winnie the Pooh', '3/11/1977', None, None, 0, 0),\n",
       " (27, 'Amy', '3/20/1981', 'Drama', None, 0, 0),\n",
       " (29, 'Condorman', '8/7/1981', 'Action', None, 0, 0),\n",
       " (355, 'Frank McKlusky C.I.', '1/1/2002', None, None, 0, 0),\n",
       " (511, 'Zokkomon', '4/22/2011', 'Adventure', 'PG', 2815, 2984),\n",
       " (487, 'Walt and El Grupo', '9/10/2009', 'Documentary', 'PG', 20521, 23064),\n",
       " (251, 'The War at Home', '11/20/1996', None, 'R', 34368, 65543),\n",
       " (280, 'An Alan Smithee Film: Burn Hollywood â€¦', '2/27/1998', 'Comedy', 'R', 45779, 82277),\n",
       " (502, 'Gedo Senki (Tales from Earthsea)', '8/13/2010', 'Adventure', 'PG-13', 48658, 51988),\n",
       " (185, \"It's Pat\", '8/26/1994', 'Comedy', None, 60822, 125666),\n",
       " (495, 'Waking Sleeping Beauty', '3/26/2010', 'Documentary', 'PG', 80741, 86264),\n",
       " (311, 'Breakfast of Champions', '9/17/1999', 'Comedy', 'R', 178287, 295851),\n",
       " (470, 'Goal! 2: Living the Dream...', '8/29/2008', 'Drama', 'PG-13', 225067, 264247),\n",
       " (350, 'High Heels and Low Lifes', '10/26/2001', None, 'R', 226792, 337782),\n",
       " (304, 'Endurance', '5/14/1999', None, 'PG', 229128, 380218),\n",
       " (473, 'Morning Light', '10/17/2008', 'Documentary', 'PG', 275093, 322979),\n",
       " (220, 'Feast of July', '10/13/1995', 'Drama', 'R', 293274, 568342),\n",
       " (404, \"America's Heart and Soul\", '7/2/2004', 'Documentary', 'Not Rated', 314000, 426246),\n",
       " (409, 'The Last Shot', '9/24/2004', 'Comedy', 'R', 463730, 629502),\n",
       " (203, \"A Pyromaniac's Love Story\", '3/28/1995', 'Romantic Comedy', 'PG', 468240, 907414)]"
      ]
     },
     "execution_count": 21,
     "metadata": {},
     "output_type": "execute_result"
    }
   ],
   "source": [
    "%%sql\n",
    "\n",
    "SELECT *\n",
    "FROM Disney_Movies AS dms\n",
    "WHERE \"total_gross\" <= 1000000 AND \"inflation_adjusted_gross\" <=1000000\n",
    "ORDER BY 6;"
   ]
  },
  {
   "cell_type": "markdown",
   "id": "ec81506a",
   "metadata": {},
   "source": [
    "* Filtering for income under \\\\$1M\n",
    "\n",
    "*Minor cleaning to both movie title names, (as mentioned emphazies on  data cleaning is beyond the scope of this project, independent projects availble on data cleaning)*"
   ]
  },
  {
   "cell_type": "code",
   "execution_count": 59,
   "id": "66ff204e",
   "metadata": {},
   "outputs": [],
   "source": [
    "ab1= disney_movies.replace('An Alan Smithee Film: Burn Hollywood â€¦','An Alan Smithee Film: Burn Hollywood Burn')"
   ]
  },
  {
   "cell_type": "code",
   "execution_count": 60,
   "id": "9bb633e1",
   "metadata": {},
   "outputs": [
    {
     "name": "stdout",
     "output_type": "stream",
     "text": [
      "                                   movie_title release_date   genre  \\\n",
      "280  An Alan Smithee Film: Burn Hollywood Burn    2/27/1998  Comedy   \n",
      "\n",
      "    mpaa_rating  total_gross  inflation_adjusted_gross  \n",
      "280           R        45779                     82277  \n"
     ]
    }
   ],
   "source": [
    "print(ab1.loc[[280]]) #checking to make sure correct name is replaced"
   ]
  },
  {
   "cell_type": "markdown",
   "id": "73db79b6",
   "metadata": {},
   "source": [
    "We can clearly see Zokkomon, Walt El Grupo, War at Home have the lowest gross income.  \n",
    "\n",
    "*Note the first 3 movies in this result have zero for total gross and inflation adjusted gross, as well as in the rating column data showing none. They are filled in that's why they didn't show up in the missing values earlier. Since there is no data to perform analysis on, we could choose to drop these. Index 280 movie name is corrected*"
   ]
  },
  {
   "cell_type": "markdown",
   "id": "ccd3c1d9",
   "metadata": {},
   "source": [
    "#### 3.)  What are  Disney Movie titles that have the highest inflation adjusted gross regardless of genre?\n",
    "  \n",
    "   Sub Question: * What are the most profitable movie title's without the inflation adjusted gross income in just plainly total_gross?"
   ]
  },
  {
   "cell_type": "code",
   "execution_count": 61,
   "id": "d006198f",
   "metadata": {},
   "outputs": [
    {
     "data": {
      "text/html": [
       "<div>\n",
       "<style scoped>\n",
       "    .dataframe tbody tr th:only-of-type {\n",
       "        vertical-align: middle;\n",
       "    }\n",
       "\n",
       "    .dataframe tbody tr th {\n",
       "        vertical-align: top;\n",
       "    }\n",
       "\n",
       "    .dataframe thead th {\n",
       "        text-align: right;\n",
       "    }\n",
       "</style>\n",
       "<table border=\"1\" class=\"dataframe\">\n",
       "  <thead>\n",
       "    <tr style=\"text-align: right;\">\n",
       "      <th></th>\n",
       "      <th>movie_title</th>\n",
       "      <th>release_date</th>\n",
       "      <th>genre</th>\n",
       "      <th>mpaa_rating</th>\n",
       "      <th>total_gross</th>\n",
       "      <th>inflation_adjusted_gross</th>\n",
       "    </tr>\n",
       "  </thead>\n",
       "  <tbody>\n",
       "    <tr>\n",
       "      <th>0</th>\n",
       "      <td>Snow White and the Seven Dwarfs</td>\n",
       "      <td>12/21/1937</td>\n",
       "      <td>Musical</td>\n",
       "      <td>G</td>\n",
       "      <td>184925485</td>\n",
       "      <td>5228953251</td>\n",
       "    </tr>\n",
       "    <tr>\n",
       "      <th>1</th>\n",
       "      <td>Pinocchio</td>\n",
       "      <td>2/9/1940</td>\n",
       "      <td>Adventure</td>\n",
       "      <td>G</td>\n",
       "      <td>84300000</td>\n",
       "      <td>2188229052</td>\n",
       "    </tr>\n",
       "    <tr>\n",
       "      <th>2</th>\n",
       "      <td>Fantasia</td>\n",
       "      <td>11/13/1940</td>\n",
       "      <td>Musical</td>\n",
       "      <td>G</td>\n",
       "      <td>83320000</td>\n",
       "      <td>2187090808</td>\n",
       "    </tr>\n",
       "    <tr>\n",
       "      <th>3</th>\n",
       "      <td>Song of the South</td>\n",
       "      <td>11/12/1946</td>\n",
       "      <td>Adventure</td>\n",
       "      <td>G</td>\n",
       "      <td>65000000</td>\n",
       "      <td>1078510579</td>\n",
       "    </tr>\n",
       "    <tr>\n",
       "      <th>6</th>\n",
       "      <td>Lady and the Tramp</td>\n",
       "      <td>6/22/1955</td>\n",
       "      <td>Drama</td>\n",
       "      <td>G</td>\n",
       "      <td>93600000</td>\n",
       "      <td>1236035515</td>\n",
       "    </tr>\n",
       "    <tr>\n",
       "      <th>8</th>\n",
       "      <td>101 Dalmatians</td>\n",
       "      <td>1/25/1961</td>\n",
       "      <td>Comedy</td>\n",
       "      <td>G</td>\n",
       "      <td>153000000</td>\n",
       "      <td>1362870985</td>\n",
       "    </tr>\n",
       "  </tbody>\n",
       "</table>\n",
       "</div>"
      ],
      "text/plain": [
       "                       movie_title release_date      genre mpaa_rating  \\\n",
       "0  Snow White and the Seven Dwarfs   12/21/1937    Musical           G   \n",
       "1                        Pinocchio     2/9/1940  Adventure           G   \n",
       "2                         Fantasia   11/13/1940    Musical           G   \n",
       "3                Song of the South   11/12/1946  Adventure           G   \n",
       "6               Lady and the Tramp    6/22/1955      Drama           G   \n",
       "8                   101 Dalmatians    1/25/1961     Comedy           G   \n",
       "\n",
       "   total_gross  inflation_adjusted_gross  \n",
       "0    184925485                5228953251  \n",
       "1     84300000                2188229052  \n",
       "2     83320000                2187090808  \n",
       "3     65000000                1078510579  \n",
       "6     93600000                1236035515  \n",
       "8    153000000                1362870985  "
      ]
     },
     "execution_count": 61,
     "metadata": {},
     "output_type": "execute_result"
    }
   ],
   "source": [
    "disney_movies[disney_movies.inflation_adjusted_gross>1000000000]"
   ]
  },
  {
   "cell_type": "markdown",
   "id": "f346cc68",
   "metadata": {},
   "source": [
    "#### Snow White and the Seven Dwarfs: Musical Genre is the movie with the highest inflation adjusted gross income\n",
    "\n",
    "\n",
    "* This was also confirmed in our earlier finding for outliers.\n",
    "\n",
    "\n",
    "*Not only Snow White, some of these discoveries include  Pinocchio, Lady and Tramp. \n",
    "You can clearly see the complete  6 movies above that fufill this criteria.*\n",
    "\n"
   ]
  },
  {
   "cell_type": "markdown",
   "id": "c997b60e",
   "metadata": {},
   "source": [
    "#### Sub Question: What are the most profitable movie title's without the inflation adjusted gross income in just plainly total_gross?"
   ]
  },
  {
   "cell_type": "code",
   "execution_count": 67,
   "id": "eec38a36",
   "metadata": {},
   "outputs": [
    {
     "name": "stdout",
     "output_type": "stream",
     "text": [
      " * sqlite:///Disney.db\n",
      "Done.\n"
     ]
    },
    {
     "data": {
      "text/html": [
       "<table>\n",
       "    <tr>\n",
       "        <th>index</th>\n",
       "        <th>movie_title</th>\n",
       "        <th>release_date</th>\n",
       "        <th>genre</th>\n",
       "        <th>mpaa_rating</th>\n",
       "        <th>total_gross</th>\n",
       "        <th>inflation_adjusted_gross</th>\n",
       "    </tr>\n",
       "    <tr>\n",
       "        <td>578</td>\n",
       "        <td>Rogue One: A Star Wars Story</td>\n",
       "        <td>12/16/2016</td>\n",
       "        <td>Adventure</td>\n",
       "        <td>PG-13</td>\n",
       "        <td>529483936</td>\n",
       "        <td>529483936</td>\n",
       "    </tr>\n",
       "    <tr>\n",
       "        <td>524</td>\n",
       "        <td>The Avengers</td>\n",
       "        <td>5/4/2012</td>\n",
       "        <td>Action</td>\n",
       "        <td>PG-13</td>\n",
       "        <td>623279547</td>\n",
       "        <td>660081224</td>\n",
       "    </tr>\n",
       "    <tr>\n",
       "        <td>564</td>\n",
       "        <td>Star Wars Ep. VII: The Force Awakens</td>\n",
       "        <td>12/18/2015</td>\n",
       "        <td>Adventure</td>\n",
       "        <td>PG-13</td>\n",
       "        <td>936662225</td>\n",
       "        <td>936662225</td>\n",
       "    </tr>\n",
       "</table>"
      ],
      "text/plain": [
       "[(578, 'Rogue One: A Star Wars Story', '12/16/2016', 'Adventure', 'PG-13', 529483936, 529483936),\n",
       " (524, 'The Avengers', '5/4/2012', 'Action', 'PG-13', 623279547, 660081224),\n",
       " (564, 'Star Wars Ep. VII: The Force Awakens', '12/18/2015', 'Adventure', 'PG-13', 936662225, 936662225)]"
      ]
     },
     "execution_count": 67,
     "metadata": {},
     "output_type": "execute_result"
    }
   ],
   "source": [
    "%%sql\n",
    "\n",
    "SELECT * \n",
    "FROM Disney_movies dms\n",
    "WHERE \"total_gross\" >= 500000000\n",
    "ORDER BY 6 ASC;"
   ]
  },
  {
   "cell_type": "markdown",
   "id": "18254b63",
   "metadata": {},
   "source": [
    "We can clearly see that *Star Wars Ep. VII: The Force Awakens* steals the win in total gross income with highest numbers, coming with *The Avengers* in second, and *Rogue One: A Star Wars Story* takes third."
   ]
  },
  {
   "cell_type": "markdown",
   "id": "8cf28283",
   "metadata": {},
   "source": [
    "* #### 4.) Given Adventure is our top Genre, What are the Disney Movies in the Adventure Genre that were the most profitable?"
   ]
  },
  {
   "cell_type": "code",
   "execution_count": 91,
   "id": "a84bce56",
   "metadata": {},
   "outputs": [
    {
     "name": "stdout",
     "output_type": "stream",
     "text": [
      " * sqlite:///Disney.db\n",
      "Done.\n"
     ]
    },
    {
     "data": {
      "text/html": [
       "<table>\n",
       "    <tr>\n",
       "        <th>index</th>\n",
       "        <th>movie_title</th>\n",
       "        <th>release_date</th>\n",
       "        <th>genre</th>\n",
       "        <th>mpaa_rating</th>\n",
       "        <th>total_gross</th>\n",
       "        <th>inflation_adjusted_gross</th>\n",
       "    </tr>\n",
       "    <tr>\n",
       "        <td>564</td>\n",
       "        <td>Star Wars Ep. VII: The Force Awakens</td>\n",
       "        <td>12/18/2015</td>\n",
       "        <td>Adventure</td>\n",
       "        <td>PG-13</td>\n",
       "        <td>936662225</td>\n",
       "        <td>936662225</td>\n",
       "    </tr>\n",
       "    <tr>\n",
       "        <td>578</td>\n",
       "        <td>Rogue One: A Star Wars Story</td>\n",
       "        <td>12/16/2016</td>\n",
       "        <td>Adventure</td>\n",
       "        <td>PG-13</td>\n",
       "        <td>529483936</td>\n",
       "        <td>529483936</td>\n",
       "    </tr>\n",
       "    <tr>\n",
       "        <td>441</td>\n",
       "        <td>Pirates of the Caribbean: Dead Manâ€™â€¦</td>\n",
       "        <td>7/7/2006</td>\n",
       "        <td>Adventure</td>\n",
       "        <td>PG-13</td>\n",
       "        <td>423315812</td>\n",
       "        <td>544817142</td>\n",
       "    </tr>\n",
       "    <tr>\n",
       "        <td>179</td>\n",
       "        <td>The Lion King</td>\n",
       "        <td>6/15/1994</td>\n",
       "        <td>Adventure</td>\n",
       "        <td>G</td>\n",
       "        <td>422780140</td>\n",
       "        <td>761640898</td>\n",
       "    </tr>\n",
       "    <tr>\n",
       "        <td>384</td>\n",
       "        <td>Finding Nemo</td>\n",
       "        <td>5/30/2003</td>\n",
       "        <td>Adventure</td>\n",
       "        <td>G</td>\n",
       "        <td>380529370</td>\n",
       "        <td>518148559</td>\n",
       "    </tr>\n",
       "    <tr>\n",
       "        <td>1</td>\n",
       "        <td>Pinocchio</td>\n",
       "        <td>2/9/1940</td>\n",
       "        <td>Adventure</td>\n",
       "        <td>G</td>\n",
       "        <td>84300000</td>\n",
       "        <td>2188229052</td>\n",
       "    </tr>\n",
       "    <tr>\n",
       "        <td>3</td>\n",
       "        <td>Song of the South</td>\n",
       "        <td>11/12/1946</td>\n",
       "        <td>Adventure</td>\n",
       "        <td>G</td>\n",
       "        <td>65000000</td>\n",
       "        <td>1078510579</td>\n",
       "    </tr>\n",
       "    <tr>\n",
       "        <td>5</td>\n",
       "        <td>20,000 Leagues Under the Sea</td>\n",
       "        <td>12/23/1954</td>\n",
       "        <td>Adventure</td>\n",
       "        <td>None</td>\n",
       "        <td>28200000</td>\n",
       "        <td>528279994</td>\n",
       "    </tr>\n",
       "</table>"
      ],
      "text/plain": [
       "[(564, 'Star Wars Ep. VII: The Force Awakens', '12/18/2015', 'Adventure', 'PG-13', 936662225, 936662225),\n",
       " (578, 'Rogue One: A Star Wars Story', '12/16/2016', 'Adventure', 'PG-13', 529483936, 529483936),\n",
       " (441, 'Pirates of the Caribbean: Dead Manâ€™â€¦', '7/7/2006', 'Adventure', 'PG-13', 423315812, 544817142),\n",
       " (179, 'The Lion King', '6/15/1994', 'Adventure', 'G', 422780140, 761640898),\n",
       " (384, 'Finding Nemo', '5/30/2003', 'Adventure', 'G', 380529370, 518148559),\n",
       " (1, 'Pinocchio', '2/9/1940', 'Adventure', 'G', 84300000, 2188229052),\n",
       " (3, 'Song of the South', '11/12/1946', 'Adventure', 'G', 65000000, 1078510579),\n",
       " (5, '20,000 Leagues Under the Sea', '12/23/1954', 'Adventure', None, 28200000, 528279994)]"
      ]
     },
     "execution_count": 91,
     "metadata": {},
     "output_type": "execute_result"
    }
   ],
   "source": [
    "%%sql\n",
    "\n",
    "SELECT * \n",
    "FROM Disney_Movies as dms\n",
    "WHERE \"genre\" = 'Adventure' AND \"inflation_adjusted_gross\" >= 500000000 \n",
    "ORDER BY 6 DESC;"
   ]
  },
  {
   "cell_type": "markdown",
   "id": "7b63d779",
   "metadata": {},
   "source": [
    " *We can see index 441 Pirates of the Carribbean: Dead Man's Chest needs some additional cleaning to it's name. Let's Rename this the correct name (This project is meant for it's main focus to be a simple exploratory analysis, deep data cleaning will be presented in another project and is beyond the scope of the main focus on what will be completed.*"
   ]
  },
  {
   "cell_type": "code",
   "execution_count": 69,
   "id": "662924b1",
   "metadata": {},
   "outputs": [],
   "source": [
    "ab2 = disney_movies.replace('Pirates of the Caribbean: Dead Manâ€™â€¦', 'Pirates of the Caribbean: Dead Man\\'s Chest')\n"
   ]
  },
  {
   "cell_type": "code",
   "execution_count": 92,
   "id": "19d5f7a3",
   "metadata": {},
   "outputs": [
    {
     "name": "stdout",
     "output_type": "stream",
     "text": [
      "                                    movie_title release_date      genre  \\\n",
      "441  Pirates of the Caribbean: Dead Man's Chest     7/7/2006  Adventure   \n",
      "\n",
      "    mpaa_rating  total_gross  inflation_adjusted_gross  \n",
      "441       PG-13    423315812                 544817142  \n"
     ]
    }
   ],
   "source": [
    "print(ab2.loc[[441]])"
   ]
  },
  {
   "cell_type": "markdown",
   "id": "c4df7e8f",
   "metadata": {},
   "source": [
    "##### This showcases the top 8 movies  Inflation Gross Income with the most income:\n",
    "\n",
    "Star Wars VII for the Win, Rogue One: A Star Wars Story which match our prior above Question. The Adventure genre strikes gold and gems in the  Pirates of the Carribbean Dead Man's Chest, The Lion King and Finding Nemo. "
   ]
  },
  {
   "cell_type": "markdown",
   "id": "f3cd72a8",
   "metadata": {},
   "source": [
    "#### 5.) Given Comedy is our second top Genre, What are the Disney Movies that were the most profitable in inflation adjusted gross?"
   ]
  },
  {
   "cell_type": "code",
   "execution_count": 71,
   "id": "697928c8",
   "metadata": {},
   "outputs": [
    {
     "name": "stdout",
     "output_type": "stream",
     "text": [
      " * sqlite:///Disney.db\n",
      "Done.\n"
     ]
    },
    {
     "data": {
      "text/html": [
       "<table>\n",
       "    <tr>\n",
       "        <th>index</th>\n",
       "        <th>movie_title</th>\n",
       "        <th>release_date</th>\n",
       "        <th>genre</th>\n",
       "        <th>mpaa_rating</th>\n",
       "        <th>total_gross</th>\n",
       "        <th>inflation_adjusted_gross</th>\n",
       "    </tr>\n",
       "    <tr>\n",
       "        <td>8</td>\n",
       "        <td>101 Dalmatians</td>\n",
       "        <td>1/25/1961</td>\n",
       "        <td>Comedy</td>\n",
       "        <td>G</td>\n",
       "        <td>153000000</td>\n",
       "        <td>1362870985</td>\n",
       "    </tr>\n",
       "</table>"
      ],
      "text/plain": [
       "[(8, '101 Dalmatians', '1/25/1961', 'Comedy', 'G', 153000000, 1362870985)]"
      ]
     },
     "execution_count": 71,
     "metadata": {},
     "output_type": "execute_result"
    }
   ],
   "source": [
    "%%sql\n",
    "\n",
    "SELECT * \n",
    "FROM Disney_Movies\n",
    "WHERE \"genre\" = 'Comedy' AND \"inflation_adjusted_gross\" >= 500000000 \n",
    "ORDER BY 6 DESC;"
   ]
  },
  {
   "cell_type": "markdown",
   "id": "6224dd8b",
   "metadata": {},
   "source": [
    "#### 101 Dalmations for the Win in Comedy as the most lucrative movie in inflation_adjusted_gross."
   ]
  }
 ],
 "metadata": {
  "kernelspec": {
   "display_name": "Python 3 (ipykernel)",
   "language": "python",
   "name": "python3"
  },
  "language_info": {
   "codemirror_mode": {
    "name": "ipython",
    "version": 3
   },
   "file_extension": ".py",
   "mimetype": "text/x-python",
   "name": "python",
   "nbconvert_exporter": "python",
   "pygments_lexer": "ipython3",
   "version": "3.7.7"
  }
 },
 "nbformat": 4,
 "nbformat_minor": 5
}
